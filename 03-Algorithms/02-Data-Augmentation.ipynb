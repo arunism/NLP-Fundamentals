{
 "cells": [
  {
   "cell_type": "markdown",
   "id": "04da9cfb",
   "metadata": {},
   "source": [
    "# Data Augmentation\n",
    "\n",
    "**Data Augmentation** is a technique to increase data samples without haing to directly collect data from sources by transforming existing dataset into multiple forms. Let's dive into the following data augmentation techniques used in Natural Language Processing:\n",
    "\n",
    "- [Easy Data Augmentation](https://arxiv.org/abs/1901.11196)\n",
    "    - Synonym Replacement\n",
    "    - Random Insertion\n",
    "    - Random Deletion\n",
    "    - Random Swap\n",
    "- Back Translation\n",
    "- [Albumentations Package](https://github.com/albumentations-team/albumentations)\n",
    "    - Shuffle Sentences Transform\n",
    "    - Exclude Duplicate Transform\n",
    "- [NLPAug Library](https://github.com/makcedward/nlpaug)\n",
    "    - Character-Level Augmentation\n",
    "    - Word-Level Augmentation\n",
    "    - Sentence-Level Augmentation\n",
    "    \n",
    "\n",
    "## Data Ingestion"
   ]
  },
  {
   "cell_type": "code",
   "execution_count": 2,
   "id": "3e251ad4",
   "metadata": {},
   "outputs": [],
   "source": [
    "import pandas as pd\n",
    "from utils import EasyDataAugmentation"
   ]
  },
  {
   "cell_type": "code",
   "execution_count": 3,
   "id": "f05b3f3a",
   "metadata": {},
   "outputs": [
    {
     "data": {
      "text/html": [
       "<div>\n",
       "<style scoped>\n",
       "    .dataframe tbody tr th:only-of-type {\n",
       "        vertical-align: middle;\n",
       "    }\n",
       "\n",
       "    .dataframe tbody tr th {\n",
       "        vertical-align: top;\n",
       "    }\n",
       "\n",
       "    .dataframe thead th {\n",
       "        text-align: right;\n",
       "    }\n",
       "</style>\n",
       "<table border=\"1\" class=\"dataframe\">\n",
       "  <thead>\n",
       "    <tr style=\"text-align: right;\">\n",
       "      <th></th>\n",
       "      <th>Id</th>\n",
       "      <th>Review</th>\n",
       "      <th>Label</th>\n",
       "    </tr>\n",
       "  </thead>\n",
       "  <tbody>\n",
       "    <tr>\n",
       "      <th>0</th>\n",
       "      <td>103868</td>\n",
       "      <td>Very bad course.</td>\n",
       "      <td>1</td>\n",
       "    </tr>\n",
       "    <tr>\n",
       "      <th>1</th>\n",
       "      <td>15884</td>\n",
       "      <td>Creativity without a reason, without a real pr...</td>\n",
       "      <td>1</td>\n",
       "    </tr>\n",
       "    <tr>\n",
       "      <th>2</th>\n",
       "      <td>25381</td>\n",
       "      <td>Hopeless ! Less clear and understandable than ...</td>\n",
       "      <td>1</td>\n",
       "    </tr>\n",
       "    <tr>\n",
       "      <th>3</th>\n",
       "      <td>64220</td>\n",
       "      <td>If you are considering this specialization I w...</td>\n",
       "      <td>1</td>\n",
       "    </tr>\n",
       "    <tr>\n",
       "      <th>4</th>\n",
       "      <td>52846</td>\n",
       "      <td>Week 4 does not give enough explanation or ext...</td>\n",
       "      <td>1</td>\n",
       "    </tr>\n",
       "  </tbody>\n",
       "</table>\n",
       "</div>"
      ],
      "text/plain": [
       "       Id                                             Review  Label\n",
       "0  103868                                   Very bad course.      1\n",
       "1   15884  Creativity without a reason, without a real pr...      1\n",
       "2   25381  Hopeless ! Less clear and understandable than ...      1\n",
       "3   64220  If you are considering this specialization I w...      1\n",
       "4   52846  Week 4 does not give enough explanation or ext...      1"
      ]
     },
     "execution_count": 3,
     "metadata": {},
     "output_type": "execute_result"
    }
   ],
   "source": [
    "df = pd.read_csv('./../data/reviews.csv')\n",
    "df.head()"
   ]
  },
  {
   "cell_type": "markdown",
   "id": "528e9330",
   "metadata": {},
   "source": [
    "## Easy Data Augmentation\n",
    "\n",
    "**EDA** proposes verious easy and simple augmentation techniques for transforming a text into its augmented version. We will take help from `nltk` library to work with Easy Data Augmentation. To prevent the chotic environment, EDA has been implemented in `utils.py` file within the same directory as the current notebook under `EasyDataAugmentation` class.\n",
    "\n",
    "#### 1. Synonym Replacement\n",
    "\n",
    "Randomly choose a word from a text and replace it with one of its synonyms."
   ]
  },
  {
   "cell_type": "code",
   "execution_count": 3,
   "id": "b10ca449",
   "metadata": {},
   "outputs": [],
   "source": [
    "eda = EasyDataAugmentation()"
   ]
  },
  {
   "cell_type": "code",
   "execution_count": 4,
   "id": "225fe34c",
   "metadata": {},
   "outputs": [
    {
     "data": {
      "text/plain": [
       "0                                     very big course.\n",
       "1    Creativity without a reason, without a real pr...\n",
       "2    Hopeless ! lupus erythematosus brighten and un...\n",
       "3    If you are considering this specialisation I w...\n",
       "4    Week 4 does not give enough explanation or ext...\n",
       "Name: Review, dtype: object"
      ]
     },
     "execution_count": 4,
     "metadata": {},
     "output_type": "execute_result"
    }
   ],
   "source": [
    "data = df['Review'].apply(eda.synonym_replacement)\n",
    "data.head()"
   ]
  },
  {
   "cell_type": "markdown",
   "id": "2bdc9f72",
   "metadata": {},
   "source": [
    "#### 2. Random Insertion\n",
    "\n",
    "Insert the synonym of a randomly selected word at random position in the text"
   ]
  },
  {
   "cell_type": "code",
   "execution_count": 5,
   "id": "71e02a2c",
   "metadata": {},
   "outputs": [
    {
     "data": {
      "text/plain": [
       "0                Very notional bad speculative course.\n",
       "1    Creativity without a reason, without a real pr...\n",
       "2    Hopeless ! Less clear and understandable than ...\n",
       "3    If you are considering this specialization I w...\n",
       "4    Week 4 does not non give enough explanation or...\n",
       "Name: Review, dtype: object"
      ]
     },
     "execution_count": 5,
     "metadata": {},
     "output_type": "execute_result"
    }
   ],
   "source": [
    "data = df['Review'].apply(eda.random_insertion)\n",
    "data.head()"
   ]
  },
  {
   "cell_type": "markdown",
   "id": "c598c1d8",
   "metadata": {},
   "source": [
    "##### 3. Random Delection\n",
    "\n",
    "Rremove a word randomly from any position in the text."
   ]
  },
  {
   "cell_type": "code",
   "execution_count": 6,
   "id": "abc824a3",
   "metadata": {},
   "outputs": [
    {
     "data": {
      "text/plain": [
       "0       [bad]\n",
       "1        [be]\n",
       "2        [of]\n",
       "3    [Andrew]\n",
       "4    [unable]\n",
       "Name: Review, dtype: object"
      ]
     },
     "execution_count": 6,
     "metadata": {},
     "output_type": "execute_result"
    }
   ],
   "source": [
    "data = df['Review'].apply(eda.random_deletion)\n",
    "data.head()"
   ]
  },
  {
   "cell_type": "markdown",
   "id": "7156cab4",
   "metadata": {},
   "source": [
    "##### 4. Random Swap\n",
    "\n",
    "Randomly swap any two words in the text."
   ]
  },
  {
   "cell_type": "code",
   "execution_count": 7,
   "id": "e22e2dc7",
   "metadata": {},
   "outputs": [
    {
     "data": {
      "text/plain": [
       "0                                     course. Very bad\n",
       "1    Try without be reason, without a real problem/...\n",
       "2    understandable ! clear Less and Hopeless than ...\n",
       "3    If completely are considering this specializat...\n",
       "4    Week 4 exercises. not give explanation enough ...\n",
       "Name: Review, dtype: object"
      ]
     },
     "execution_count": 7,
     "metadata": {},
     "output_type": "execute_result"
    }
   ],
   "source": [
    "data = df['Review'].apply(eda.random_swap)\n",
    "data.head()"
   ]
  },
  {
   "cell_type": "markdown",
   "id": "e392446e",
   "metadata": {},
   "source": [
    "## Back Translation\n",
    "\n",
    "A sentence is translated in one language and then a new sentence is translated again in the original language. So, different sentences are created. The resulted text is removed if it is same as the original text."
   ]
  },
  {
   "cell_type": "markdown",
   "id": "e11b235c",
   "metadata": {},
   "source": [
    "## References\n",
    "\n",
    "- [A Survey of Data Augmentation Approaches for NLP](https://arxiv.org/pdf/2105.03075.pdf)\n",
    "- [Data Augmentation in NLP: Best Practices From a Kaggle Master ](https://neptune.ai/blog/data-augmentation-nlp)"
   ]
  }
 ],
 "metadata": {
  "kernelspec": {
   "display_name": "Python 3 (ipykernel)",
   "language": "python",
   "name": "python3"
  },
  "language_info": {
   "codemirror_mode": {
    "name": "ipython",
    "version": 3
   },
   "file_extension": ".py",
   "mimetype": "text/x-python",
   "name": "python",
   "nbconvert_exporter": "python",
   "pygments_lexer": "ipython3",
   "version": "3.8.10"
  }
 },
 "nbformat": 4,
 "nbformat_minor": 5
}
