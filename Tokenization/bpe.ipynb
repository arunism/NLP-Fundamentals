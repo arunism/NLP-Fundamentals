{
 "cells": [
  {
   "cell_type": "markdown",
   "source": [
    "# Byte-Pair Encoding"
   ],
   "metadata": {
    "collapsed": false,
    "pycharm": {
     "name": "#%% md\n"
    }
   }
  },
  {
   "cell_type": "markdown",
   "source": [
    "We will be implementing Byte-Pair Encoding using Google's SentencePiece library. Let's get started by installing the library.\n",
    "\n",
    "`pip3 install sentencepiece`"
   ],
   "metadata": {
    "collapsed": false,
    "pycharm": {
     "name": "#%% md\n"
    }
   }
  },
  {
   "cell_type": "code",
   "execution_count": 1,
   "outputs": [],
   "source": [
    "import config\n",
    "from sentencepiece import SentencePieceTrainer, SentencePieceProcessor"
   ],
   "metadata": {
    "collapsed": false,
    "pycharm": {
     "name": "#%%\n"
    }
   }
  },
  {
   "cell_type": "markdown",
   "source": [
    "`Remember:`\n",
    "- To download the dataset and copy it to the correct location.\n",
    "- Create a 'models' directory inside the root directory."
   ],
   "metadata": {
    "collapsed": false,
    "pycharm": {
     "name": "#%% md\n"
    }
   }
  },
  {
   "cell_type": "markdown",
   "source": [
    "## Training and loading model"
   ],
   "metadata": {
    "collapsed": false,
    "pycharm": {
     "name": "#%% md\n"
    }
   }
  },
  {
   "cell_type": "code",
   "execution_count": null,
   "outputs": [],
   "source": [
    "params = ' '.join([\n",
    "    '--input=./../{}'.format(config.DATA_PATH),\n",
    "    '--model_type=bpe',\n",
    "    '--model_prefix=./../{}/bpe'.format(config.MODEL_PATH),\n",
    "    '--vocab_size={}'.format(config.VOCAB_SIZE),\n",
    "    '--pad_id=0',\n",
    "    '--unk_id=1',\n",
    "    '--bos_id=2',\n",
    "    '--eos_id=3'\n",
    "])\n",
    "SentencePieceTrainer.train(params)\n",
    "\n",
    "sp = SentencePieceProcessor()\n",
    "sp.load('./../{}/bpe.model'.format(config.MODEL_PATH))"
   ],
   "metadata": {
    "collapsed": false,
    "pycharm": {
     "name": "#%%\n"
    }
   }
  },
  {
   "cell_type": "markdown",
   "source": [
    "## Showcasing Subword Operations"
   ],
   "metadata": {
    "collapsed": false,
    "pycharm": {
     "name": "#%% md\n"
    }
   }
  },
  {
   "cell_type": "code",
   "execution_count": 3,
   "outputs": [],
   "source": [
    "text = \"Good muffins cost $3.88. Please buy me two of them.\\n\\nThanks.\""
   ],
   "metadata": {
    "collapsed": false,
    "pycharm": {
     "name": "#%%\n"
    }
   }
  },
  {
   "cell_type": "code",
   "execution_count": 4,
   "outputs": [
    {
     "name": "stdout",
     "output_type": "stream",
     "text": [
      "Number of Unique Tokens: 1000\n"
     ]
    }
   ],
   "source": [
    "print('Number of Unique Tokens: {}'.format(sp.get_piece_size()))"
   ],
   "metadata": {
    "collapsed": false,
    "pycharm": {
     "name": "#%%\n"
    }
   }
  },
  {
   "cell_type": "code",
   "execution_count": 5,
   "outputs": [
    {
     "name": "stdout",
     "output_type": "stream",
     "text": [
      "['▁Good', '▁mu', 'ff', 'ins', '▁c', 'ost', '▁', '$3', '.', '88', '.', '▁P', 'le', 'ase', '▁b', 'u', 'y', '▁me', '▁two', '▁of', '▁them', '.', '▁Than', 'ks', '.']\n",
      "Good muffins cost $3.88. Please buy me two of them. Thanks.\n"
     ]
    }
   ],
   "source": [
    "encoded_pieces = sp.encode_as_pieces(text)\n",
    "print(encoded_pieces)\n",
    "\n",
    "decoded_pieces = sp.decode_pieces(encoded_pieces)\n",
    "print(decoded_pieces)"
   ],
   "metadata": {
    "collapsed": false,
    "pycharm": {
     "name": "#%%\n"
    }
   }
  },
  {
   "cell_type": "markdown",
   "source": [
    "## Showcasing Subword Operations with Numeric Ids"
   ],
   "metadata": {
    "collapsed": false,
    "pycharm": {
     "name": "#%% md\n"
    }
   }
  },
  {
   "cell_type": "code",
   "execution_count": 6,
   "outputs": [
    {
     "name": "stdout",
     "output_type": "stream",
     "text": [
      "[739, 215, 403, 803, 26, 271, 932, 1, 948, 1, 948, 82, 65, 519, 16, 944, 946, 70, 661, 43, 240, 948, 776, 688, 948]\n",
      "Good muffins cost  ⁇ . ⁇ . Please buy me two of them. Thanks.\n"
     ]
    }
   ],
   "source": [
    "encoded_ids = sp.encode_as_ids(text)\n",
    "print(encoded_ids)\n",
    "\n",
    "decoded_ids = sp.decode_ids(encoded_ids)\n",
    "print(decoded_ids)"
   ],
   "metadata": {
    "collapsed": false,
    "pycharm": {
     "name": "#%%\n"
    }
   }
  },
  {
   "cell_type": "code",
   "execution_count": 7,
   "outputs": [
    {
     "name": "stdout",
     "output_type": "stream",
     "text": [
      "101\n",
      "▁The\n"
     ]
    }
   ],
   "source": [
    "piece_id = sp.piece_to_id('▁The')\n",
    "print(piece_id)\n",
    "\n",
    "piece = sp.id_to_piece(piece_id)\n",
    "print(piece)"
   ],
   "metadata": {
    "collapsed": false,
    "pycharm": {
     "name": "#%%\n"
    }
   }
  },
  {
   "cell_type": "code",
   "execution_count": 7,
   "outputs": [],
   "source": [],
   "metadata": {
    "collapsed": false,
    "pycharm": {
     "name": "#%%\n"
    }
   }
  }
 ],
 "metadata": {
  "kernelspec": {
   "display_name": "Python 3",
   "language": "python",
   "name": "python3"
  },
  "language_info": {
   "codemirror_mode": {
    "name": "ipython",
    "version": 2
   },
   "file_extension": ".py",
   "mimetype": "text/x-python",
   "name": "python",
   "nbconvert_exporter": "python",
   "pygments_lexer": "ipython2",
   "version": "2.7.6"
  }
 },
 "nbformat": 4,
 "nbformat_minor": 0
}