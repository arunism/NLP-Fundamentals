{
 "cells": [
  {
   "cell_type": "markdown",
   "source": [
    "# Term Frequency-Inverse Document Frequency (TF-IDF)"
   ],
   "metadata": {
    "collapsed": false,
    "pycharm": {
     "name": "#%% md\n"
    }
   }
  },
  {
   "cell_type": "markdown",
   "source": [
    "`scikit-learn` is again one of the best choices to work with TF-IDF similar to Bag-of-Words. `TfidfVectorizer` module serves as a great aid for this. Installing the required package is the first task we want to go through (if not installed already):\n",
    "\n",
    "`pip3 install sklearn`"
   ],
   "metadata": {
    "collapsed": false,
    "pycharm": {
     "name": "#%% md\n"
    }
   }
  },
  {
   "cell_type": "code",
   "execution_count": 1,
   "outputs": [],
   "source": [
    "from sklearn.feature_extraction.text import TfidfVectorizer"
   ],
   "metadata": {
    "collapsed": false,
    "pycharm": {
     "name": "#%%\n"
    }
   }
  },
  {
   "cell_type": "code",
   "execution_count": 2,
   "outputs": [],
   "source": [
    "corpus = [\n",
    "    'About the bird, the bird, bird bird bird',\n",
    "    'You heard about the bird',\n",
    "    'The bird is the word'\n",
    "]"
   ],
   "metadata": {
    "collapsed": false,
    "pycharm": {
     "name": "#%%\n"
    }
   }
  },
  {
   "cell_type": "code",
   "execution_count": 3,
   "outputs": [
    {
     "name": "stdout",
     "output_type": "stream",
     "text": [
      "[[0.23256045 0.90301967 0.         0.         0.36120787 0.\n",
      "  0.        ]\n",
      " [0.42018292 0.32630952 0.55249005 0.         0.32630952 0.\n",
      "  0.55249005]\n",
      " [0.         0.30523155 0.         0.51680194 0.61046311 0.51680194\n",
      "  0.        ]]\n"
     ]
    }
   ],
   "source": [
    "vectorizer = TfidfVectorizer()\n",
    "output = vectorizer.fit_transform(corpus)\n",
    "\n",
    "print(output.todense())"
   ],
   "metadata": {
    "collapsed": false,
    "pycharm": {
     "name": "#%%\n"
    }
   }
  },
  {
   "cell_type": "code",
   "execution_count": 3,
   "outputs": [],
   "source": [],
   "metadata": {
    "collapsed": false,
    "pycharm": {
     "name": "#%%\n"
    }
   }
  }
 ],
 "metadata": {
  "kernelspec": {
   "display_name": "Python 3",
   "language": "python",
   "name": "python3"
  },
  "language_info": {
   "codemirror_mode": {
    "name": "ipython",
    "version": 2
   },
   "file_extension": ".py",
   "mimetype": "text/x-python",
   "name": "python",
   "nbconvert_exporter": "python",
   "pygments_lexer": "ipython2",
   "version": "2.7.6"
  }
 },
 "nbformat": 4,
 "nbformat_minor": 0
}