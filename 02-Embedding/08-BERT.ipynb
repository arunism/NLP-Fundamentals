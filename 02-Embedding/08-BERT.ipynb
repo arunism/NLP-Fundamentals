{
 "cells": [
  {
   "cell_type": "markdown",
   "metadata": {},
   "source": [
    "# Bidirectional Encoder Representations from Transformer (BERT)"
   ]
  },
  {
   "attachments": {},
   "cell_type": "markdown",
   "metadata": {},
   "source": [
    "BERT, as its name stands for, builds a bidirectional transformer-based language model using encoders rather than decoders. BERT is a state-of-the-art transformer architecture developed by `Google`. BERT is built on top of several popular ideas like [Semi-supervised Sequence Learning](https://arxiv.org/abs/1511.01432), [ELMo](https://arxiv.org/abs/1802.05365), [ULM-FiT](https://arxiv.org/abs/1801.06146), [OpenAI Transformer](https://s3-us-west-2.amazonaws.com/openai-assets/research-covers/language-unsupervised/language_understanding_paper.pdf) and [Transformer](https://arxiv.org/abs/1706.03762).\n",
    "\n",
    "The BERT architecture falls under an encoder-decoder(Transformer) model as follows:\n",
    "\n",
    "![BERT](./../assets/embedding/bert.jpg)\n",
    "\n",
    "For fine-tuning and pre-training for different downstream tasks like Q/A, Classification, Language Modelling, Multiple Choice, NER etc. different layers of the BERT are used.\n",
    "\n",
    "![BERT Fine Tune](./../assets/embedding/bert-fine-tune.jpg)\n",
    "\n",
    "**Why BERT?**\n",
    "- BERT can be used to extract features (word and sentence embeddings) from text. These features can be useful for keyword/search expansion, semantic search and information retrieval even if there’s no keyword or phrase overlap.\n",
    "- BERT can be used to fine-tune downstream models. The pretrained features can be used as high quality feature inputs to these downstream models."
   ]
  },
  {
   "cell_type": "markdown",
   "metadata": {},
   "source": []
  }
 ],
 "metadata": {
  "kernelspec": {
   "display_name": "Python 3 (ipykernel)",
   "language": "python",
   "name": "python3"
  },
  "language_info": {
   "codemirror_mode": {
    "name": "ipython",
    "version": 3
   },
   "file_extension": ".py",
   "mimetype": "text/x-python",
   "name": "python",
   "nbconvert_exporter": "python",
   "pygments_lexer": "ipython3",
   "version": "3.10.6 (main, Nov 14 2022, 16:10:14) [GCC 11.3.0]"
  },
  "vscode": {
   "interpreter": {
    "hash": "65a9e37ffee3a5a10c5d687ae20c51ee3d4ba310e8eddff89fa7a028272d595a"
   }
  }
 },
 "nbformat": 4,
 "nbformat_minor": 2
}
