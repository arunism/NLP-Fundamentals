{
 "cells": [
  {
   "cell_type": "markdown",
   "metadata": {
    "pycharm": {
     "name": "#%% md\n"
    }
   },
   "source": [
    "# Bag of Words"
   ]
  },
  {
   "cell_type": "markdown",
   "metadata": {
    "pycharm": {
     "name": "#%% md\n"
    }
   },
   "source": [
    "Bag of Words is the simplest form of word embedding. Bag of words models encode every word in the vocabulary as one-hot-encoded vector. The process for Bag of Words goes through the following steps:\n",
    "\n",
    "1. Construct a vocabulary of words.\n",
    "2. Construct a vector of dimension *d* (*d* being the vocabulary size). Each index/dimension of the vector corresponds to a unique word in the vocabulary. The value in each shell of the vector represents the number of times the word with that index occurs in the corpus.\n",
    "    \n",
    "**Drawbacks of Bag-of-Words:**\n",
    "\n",
    "- Vector length is insanely large for large corpus.\n",
    "- BoW results to sparse matrix, which is what we would like to avoid.\n",
    "- Retains no information about grammar and ordering of words in a corpus.\n",
    "\n",
    "![](./../assets/embedding/bow.jpg)\n",
    "\n",
    "`CountVectorizer` module from scikit-learn serves well to generate the document-term matrix. As always let's start by installing the required library.\n",
    "\n",
    "`pip3 install sklearn`"
   ]
  },
  {
   "cell_type": "code",
   "execution_count": 1,
   "metadata": {
    "pycharm": {
     "name": "#%%\n"
    }
   },
   "outputs": [],
   "source": [
    "from sklearn.feature_extraction.text import CountVectorizer"
   ]
  },
  {
   "cell_type": "code",
   "execution_count": 2,
   "metadata": {
    "pycharm": {
     "name": "#%%\n"
    }
   },
   "outputs": [],
   "source": [
    "corpus = [\n",
    "    'About the bird, the bird, bird bird bird',\n",
    "    'You heard about the bird',\n",
    "    'The bird is the word'\n",
    "]"
   ]
  },
  {
   "cell_type": "code",
   "execution_count": 3,
   "metadata": {
    "pycharm": {
     "name": "#%%\n"
    }
   },
   "outputs": [
    {
     "name": "stdout",
     "output_type": "stream",
     "text": [
      "[[1 5 0 0 2 0 0]\n",
      " [1 1 1 0 1 0 1]\n",
      " [0 1 0 1 2 1 0]]\n"
     ]
    }
   ],
   "source": [
    "vectorizer = CountVectorizer()\n",
    "output = vectorizer.fit_transform(corpus)\n",
    "\n",
    "print(output.todense())"
   ]
  },
  {
   "cell_type": "markdown",
   "metadata": {
    "pycharm": {
     "name": "#%% md\n"
    }
   },
   "source": [
    "Each row in the output matrix is the sparse vector representation of the sentence at the corresponding index of the corpus list."
   ]
  }
 ],
 "metadata": {
  "kernelspec": {
   "display_name": "Python 3 (ipykernel)",
   "language": "python",
   "name": "python3"
  },
  "language_info": {
   "codemirror_mode": {
    "name": "ipython",
    "version": 3
   },
   "file_extension": ".py",
   "mimetype": "text/x-python",
   "name": "python",
   "nbconvert_exporter": "python",
   "pygments_lexer": "ipython3",
   "version": "3.8.10"
  }
 },
 "nbformat": 4,
 "nbformat_minor": 1
}
