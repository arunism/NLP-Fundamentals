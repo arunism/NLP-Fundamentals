{
 "cells": [
  {
   "cell_type": "markdown",
   "metadata": {},
   "source": [
    "# FastText"
   ]
  },
  {
   "cell_type": "markdown",
   "metadata": {},
   "source": [
    "Facebook AI Research lab developed an open-source word-embedding library called `FastText` with the purpose of achieving more accurate and scalable solutions qucikly while processing large text data. Similar to `GloVe` Word Embedding, `FastText` is also the modified version of `Word2Vec`.\n",
    "\n",
    "Unlike Word2Vec which feeds individual words to neural network, FastText breaks a word into character n-grams and then feeds those character n-grams to the neural network. For instance: the tri-gram of the word fasttext is:\n",
    "\n",
    "`<fa`, `fas`, `ast`, `stt`, `tte`, `tex`, `ext`, `xt>`\n",
    "\n",
    "The embedding vectors for each of these words are obtained after training the neural network. These independent embedding vectors are finally added up to obtain the word embedding vector of the original word `fasttext`.\n",
    "\n",
    "**How is FastText better than Word2Vec?**\n",
    "\n",
    "- Compound words like `fasttext` can be properly represented even if the data do not contain the word `fasttext` as other words like `fast` and `text` contain the same n-grams.\n",
    "- Even though the words like `fast`, `faster`, `fastest` share the same redical, word2vec handles them independently according to the context. FastText on the other hand facilitates parameter sharing among such words and does efficient utilization of the morphological structure.\n",
    "\n",
    "Let's try implementing it for real. Python provides an open-source library `gensim` that makes working with fasttext easy. Let's begin by installing gensim library. We will use `nltk` for preprocessing, so let's install both of the libraries.\n",
    "\n",
    "```\n",
    "pip3 install nltk\n",
    "pip3 install gensim\n",
    "```"
   ]
  },
  {
   "cell_type": "code",
   "execution_count": 1,
   "metadata": {},
   "outputs": [],
   "source": [
    "from gensim.models import FastText\n",
    "from nltk.tokenize import word_tokenize"
   ]
  },
  {
   "cell_type": "code",
   "execution_count": 2,
   "metadata": {},
   "outputs": [
    {
     "name": "stderr",
     "output_type": "stream",
     "text": [
      "[nltk_data] Downloading package punkt to /home/arun/nltk_data...\n",
      "[nltk_data]   Package punkt is already up-to-date!\n"
     ]
    },
    {
     "data": {
      "text/plain": [
       "True"
      ]
     },
     "execution_count": 2,
     "metadata": {},
     "output_type": "execute_result"
    }
   ],
   "source": [
    "import nltk\n",
    "nltk.download('punkt')"
   ]
  },
  {
   "cell_type": "code",
   "execution_count": 3,
   "metadata": {},
   "outputs": [],
   "source": [
    "with open('./../data/shakespeare.txt') as file:\n",
    "    data = file.read().split('\\n')\n",
    "\n",
    "data = [word_tokenize(sentence) for sentence in data]"
   ]
  },
  {
   "cell_type": "code",
   "execution_count": 4,
   "metadata": {},
   "outputs": [],
   "source": [
    "model = FastText(data, vector_size=128, window=5, min_count=5, workers=4,sg=1)\n",
    "model.save('./../models/fasttext.ft')"
   ]
  },
  {
   "cell_type": "code",
   "execution_count": 5,
   "metadata": {},
   "outputs": [],
   "source": [
    "fmodel = model.wv"
   ]
  },
  {
   "cell_type": "code",
   "execution_count": 6,
   "metadata": {},
   "outputs": [
    {
     "data": {
      "text/plain": [
       "array([-0.11217783,  0.20577465,  0.21235843, -0.05980067,  0.03176756,\n",
       "       -0.14845176,  0.2166336 ,  0.32104605, -0.01718167, -0.22685342,\n",
       "        0.23097259,  0.05221527, -0.18078251, -0.09492142, -0.11748819,\n",
       "       -0.27803648,  0.04973472,  0.17366092, -0.20142494, -0.09581104,\n",
       "       -0.1061855 ,  0.01365055,  0.3170049 , -0.3091896 , -0.00823896,\n",
       "       -0.02725019, -0.1531331 ,  0.19494449, -0.09518225, -0.07013408,\n",
       "       -0.3015556 ,  0.5219829 , -0.01059348, -0.02373229, -0.00484098,\n",
       "        0.02774051,  0.01390303,  0.22808442,  0.2127559 , -0.09040981,\n",
       "       -0.10189486,  0.15964822,  0.13023494,  0.05941271,  0.01029881,\n",
       "        0.39144734, -0.27903053, -0.09481051,  0.01477321,  0.13662024,\n",
       "       -0.04695304,  0.16299796, -0.15678835,  0.14295399,  0.31410298,\n",
       "       -0.00992163, -0.17167176, -0.01808323, -0.07789619, -0.10428111,\n",
       "        0.12600031, -0.07776643,  0.10116425, -0.13384894, -0.42259532,\n",
       "        0.05552647,  0.1492907 ,  0.07554794,  0.06587178, -0.28092277,\n",
       "       -0.00873597, -0.16415492, -0.00986821, -0.11510997,  0.2597883 ,\n",
       "        0.1622847 , -0.19597425, -0.07541676, -0.16417839, -0.19181715,\n",
       "       -0.11402123,  0.03752789,  0.10094497,  0.25372794, -0.08962096,\n",
       "        0.004091  ,  0.09454215,  0.02768305,  0.4276657 ,  0.37739772,\n",
       "       -0.06587797,  0.17022766,  0.06264701,  0.05844783,  0.13113166,\n",
       "        0.02519337, -0.00731819, -0.06918022, -0.08314161, -0.101839  ,\n",
       "       -0.3112365 , -0.06332764, -0.01990394,  0.4242651 ,  0.08105505,\n",
       "       -0.24363102,  0.17794016, -0.0140883 , -0.19333877, -0.27036512,\n",
       "        0.3008557 , -0.09237564, -0.20255734,  0.12638088, -0.14251286,\n",
       "       -0.19038731,  0.5081846 ,  0.00341531,  0.28075427,  0.00069102,\n",
       "        0.10477915, -0.10155722,  0.17003876, -0.28802866,  0.01852658,\n",
       "        0.02468885,  0.19923955, -0.06293252], dtype=float32)"
      ]
     },
     "execution_count": 6,
     "metadata": {},
     "output_type": "execute_result"
    }
   ],
   "source": [
    "fmodel['king']"
   ]
  },
  {
   "cell_type": "code",
   "execution_count": 7,
   "metadata": {},
   "outputs": [
    {
     "data": {
      "text/plain": [
       "[('Bring', 0.9997567534446716),\n",
       " ('spring', 0.9997466802597046),\n",
       " ('Being', 0.9997231960296631),\n",
       " ('night', 0.999680757522583),\n",
       " ('bring', 0.9996647238731384)]"
      ]
     },
     "execution_count": 7,
     "metadata": {},
     "output_type": "execute_result"
    }
   ],
   "source": [
    "fmodel.similar_by_word('king', topn=5)"
   ]
  }
 ],
 "metadata": {
  "kernelspec": {
   "display_name": "Python 3 (ipykernel)",
   "language": "python",
   "name": "python3"
  },
  "language_info": {
   "codemirror_mode": {
    "name": "ipython",
    "version": 3
   },
   "file_extension": ".py",
   "mimetype": "text/x-python",
   "name": "python",
   "nbconvert_exporter": "python",
   "pygments_lexer": "ipython3",
   "version": "3.10.6"
  },
  "vscode": {
   "interpreter": {
    "hash": "916dbcbb3f70747c44a77c7bcd40155683ae19c65e1c03b4aa3499c5328201f1"
   }
  }
 },
 "nbformat": 4,
 "nbformat_minor": 2
}
