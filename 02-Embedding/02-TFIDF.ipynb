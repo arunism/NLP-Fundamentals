{
 "cells": [
  {
   "cell_type": "markdown",
   "metadata": {
    "pycharm": {
     "name": "#%% md\n"
    }
   },
   "source": [
    "# Term Frequency-Inverse Document Frequency (TF-IDF)"
   ]
  },
  {
   "cell_type": "markdown",
   "metadata": {
    "pycharm": {
     "name": "#%% md\n"
    }
   },
   "source": [
    "In NLP an independent text entity is known as document and the collection of all these documents over the project space is known as corpus. TF-IDF stands for Term Frequency-Inverse Document Frequency. The entire technique can be studied by studying _TF_ and _IDF_ separately.\n",
    "\n",
    "_Term-Frequency_ is a measure of frequency of appearance of term *t* in a document *d*. In other words, the probability of finding term *t* in a document *d*. `Mathematically:`\n",
    "\n",
    "![](./../assets/embedding/tf.jpg)\n",
    "\n",
    "*Inverse-Document-Frequency* is a measure of inverse of probability of finding a document that contains term _t_ in a corpus. In other words, a measure of the importance of term _t_. `Mathematically:`\n",
    "\n",
    "![](./../assets/embedding/idf.jpg)\n",
    "\n",
    "We can now compute the TF-IDF score for each word in the corpus. Words with a higher score are more important. TF-IDF score is high when both IDF and TF values are high. So, TF-IDF gives more importance to words that are:\n",
    "1. More frequent in the entire corpus\n",
    "2. Rare in the corpus but frequent in the document.\n",
    "\n",
    "Now this TF-IDF score is used as a value for each shell of the document-term matrix, just like the frequency of words in case of Bag-of-Words. The formula below is used to compute TF-IDF score for each shell:\n",
    "\n",
    "![](./../assets/embedding/tf-idf.jpg)\n",
    "\n",
    "`scikit-learn` is again one of the best choices to work with TF-IDF similar to Bag-of-Words. `TfidfVectorizer` module serves as a great aid for this. Installing the required package is the first task we want to go through (if not installed already):\n",
    "\n",
    "`pip3 install sklearn`"
   ]
  },
  {
   "cell_type": "code",
   "execution_count": 1,
   "metadata": {
    "pycharm": {
     "name": "#%%\n"
    }
   },
   "outputs": [],
   "source": [
    "from sklearn.feature_extraction.text import TfidfVectorizer"
   ]
  },
  {
   "cell_type": "code",
   "execution_count": 2,
   "metadata": {
    "pycharm": {
     "name": "#%%\n"
    }
   },
   "outputs": [],
   "source": [
    "corpus = [\n",
    "    'About the bird, the bird, bird bird bird',\n",
    "    'You heard about the bird',\n",
    "    'The bird is the word'\n",
    "]"
   ]
  },
  {
   "cell_type": "code",
   "execution_count": 3,
   "metadata": {
    "pycharm": {
     "name": "#%%\n"
    }
   },
   "outputs": [
    {
     "name": "stdout",
     "output_type": "stream",
     "text": [
      "[[0.23256045 0.90301967 0.         0.         0.36120787 0.\n",
      "  0.        ]\n",
      " [0.42018292 0.32630952 0.55249005 0.         0.32630952 0.\n",
      "  0.55249005]\n",
      " [0.         0.30523155 0.         0.51680194 0.61046311 0.51680194\n",
      "  0.        ]]\n"
     ]
    }
   ],
   "source": [
    "vectorizer = TfidfVectorizer()\n",
    "output = vectorizer.fit_transform(corpus)\n",
    "\n",
    "print(output.todense())"
   ]
  }
 ],
 "metadata": {
  "kernelspec": {
   "display_name": "Python 3 (ipykernel)",
   "language": "python",
   "name": "python3"
  },
  "language_info": {
   "codemirror_mode": {
    "name": "ipython",
    "version": 3
   },
   "file_extension": ".py",
   "mimetype": "text/x-python",
   "name": "python",
   "nbconvert_exporter": "python",
   "pygments_lexer": "ipython3",
   "version": "3.8.10"
  }
 },
 "nbformat": 4,
 "nbformat_minor": 1
}
