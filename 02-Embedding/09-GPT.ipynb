{
 "cells": [
  {
   "cell_type": "markdown",
   "metadata": {},
   "source": [
    "# GPT"
   ]
  },
  {
   "cell_type": "code",
   "execution_count": 1,
   "metadata": {},
   "outputs": [],
   "source": [
    "from transformers import GPT2Tokenizer, GPT2Model\n",
    "\n",
    "text = \"this is a sentence\"\n",
    "# tokenizer_bert = BertTokenizer.from_pretrained('bert-base-uncased')\n",
    "tokenizer_gpt2 = GPT2Tokenizer.from_pretrained(\"gpt2\")\n",
    "\n",
    "# model_bert = BertModel.from_pretrained(\"bert-base-uncased\")\n",
    "model_gpt2 = GPT2Model.from_pretrained(\"gpt2\")\n",
    "\n",
    "# 6 tokens\n",
    "# encoded_input_bert = tokenizer_bert(text, return_tensors='pt')\n",
    "\n",
    "# 4 tokens\n",
    "encoded_input_gpt2 = tokenizer_gpt2(text, return_tensors='pt')\n",
    "\n",
    "# output_bert = model_bert(**encoded_input_bert)\n",
    "output_gpt2 = model_gpt2(**encoded_input_gpt2)"
   ]
  },
  {
   "cell_type": "code",
   "execution_count": 2,
   "metadata": {},
   "outputs": [],
   "source": [
    "# output_gpt2"
   ]
  },
  {
   "cell_type": "code",
   "execution_count": null,
   "metadata": {},
   "outputs": [],
   "source": []
  }
 ],
 "metadata": {
  "kernelspec": {
   "display_name": "Python 3 (ipykernel)",
   "language": "python",
   "name": "python3"
  },
  "language_info": {
   "codemirror_mode": {
    "name": "ipython",
    "version": 3
   },
   "file_extension": ".py",
   "mimetype": "text/x-python",
   "name": "python",
   "nbconvert_exporter": "python",
   "pygments_lexer": "ipython3",
   "version": "3.10.6"
  }
 },
 "nbformat": 4,
 "nbformat_minor": 4
}
