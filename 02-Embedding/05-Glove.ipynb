{
 "cells": [
  {
   "cell_type": "markdown",
   "metadata": {},
   "source": [
    "# Glove Word Embedding"
   ]
  },
  {
   "cell_type": "markdown",
   "metadata": {},
   "source": [
    "GloVe stands for Global Vectors for word representation and was developed by researchers at Stanford University. It is unsupervised learning algorithm aiming to generate word embeddings by aggregating global word co-occurrence matrices from a given corpus. To start with GloVe, first we have to download the pre-trained model hosted *[here](https://nlp.stanford.edu/projects/glove/)*. A total of four pre-trained models are available there. Get your own choice.\n",
    "\n",
    "The basic idea behind the GloVe word embedding is to derive the relationship between the words from statistics.\n",
    "    \n",
    "![](./../assets/embedding/glove.jpg)"
   ]
  },
  {
   "cell_type": "markdown",
   "metadata": {},
   "source": [
    "To use glove word embedding with our way, you first need to install python `scipy` and `numpy` libraries (if not installed already). Copy the below command to do so.\n",
    "\n",
    "```\n",
    "pip3 install scipy\n",
    "pip3 install numpy\n",
    "```"
   ]
  },
  {
   "cell_type": "code",
   "execution_count": null,
   "metadata": {},
   "outputs": [],
   "source": [
    "import numpy as np\n",
    "from scipy import spatial\n",
    "\n",
    "glove_filepath = 'glove.6B.50d.txt'\n",
    "\n",
    "embeddings_dict = {}\n",
    "with open(glove_filepath, 'r') as f:\n",
    "    for line in f:\n",
    "        values = line.split()\n",
    "        word = values[0]\n",
    "        vector = np.asarray(values[1:], \"float32\")\n",
    "        embeddings_dict[word] = vector\n",
    "\n",
    "# Find similar Vectors\n",
    "def find_similar_vectors(inputs):\n",
    "    return sorted(embeddings_dict.keys(), key=lambda word: spatial.distance.euclidean(embeddings_dict[word], embeddings_dict[inputs]))\n",
    "\n",
    "# Example:\n",
    "find_similar_vectors('king')[:5]    # Get top 5 similar words\n"
   ]
  }
 ],
 "metadata": {
  "kernelspec": {
   "display_name": "Python 3 (ipykernel)",
   "language": "python",
   "name": "python3"
  },
  "language_info": {
   "codemirror_mode": {
    "name": "ipython",
    "version": 3
   },
   "file_extension": ".py",
   "mimetype": "text/x-python",
   "name": "python",
   "nbconvert_exporter": "python",
   "pygments_lexer": "ipython3",
   "version": "3.8.10"
  },
  "vscode": {
   "interpreter": {
    "hash": "65a9e37ffee3a5a10c5d687ae20c51ee3d4ba310e8eddff89fa7a028272d595a"
   }
  }
 },
 "nbformat": 4,
 "nbformat_minor": 2
}
